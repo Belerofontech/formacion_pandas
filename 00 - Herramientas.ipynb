{
 "cells": [
  {
   "cell_type": "markdown",
   "metadata": {},
   "source": [
    "# __Anaconda__"
   ]
  },
  {
   "cell_type": "markdown",
   "metadata": {},
   "source": [
    "* __Anaconda, Miniconda o Python oficial.__\n",
    "  * https://www.python.org/ \n",
    "  * https://www.anaconda.com/\n",
    "  * https://es.wikipedia.org/wiki/Python\n",
    "  * Instalar Anaconda:\n",
    "    * Reflexionar acerca de entorno de ejecución que se va a generar para poder ejecutar los scripts creados.\n",
    "* __Creación de entornos:__\n",
    "    Cuando trabajamos con Python podemos tener muchos problemas asociados a las dependencias de los paquetes, muchas veces es necesario crear un entorno limpio en el que instalar unos pocos paquetes que pueden resolver un problema. Esta acción se puede realizar de dos modos, el primero con herramientas estándar de Python y el segundo con el gestor de paquetes de Anaconda, conda.\n",
    "    - Crear un entorno: python -m venv venv/\n",
    "    - Activarlo: source venv/bin/activate\n",
    "    - Desactivar: deactivate\n",
    "    - Borrar entornos: desactivar y borrar recursivamente los ficheros\n",
    "* __Entornos con conda:__\n",
    "    - conda env list\n",
    "    - conda create -n forecast python=3.10\n",
    "    - conda activate -n forecast\n",
    "    - deactivate\n",
    "    - conda remove -n forecast\n",
    "    - conda install paquete\n",
    "    - conda install conda-forge::pycaret\n",
    "    - conda update --all \n",
    "* __Instalación de Paquetes:__\n",
    "    - Librería estándar\n",
    "    - Otros Paquetes, existen unos 300.000\n",
    "    - python3 -m pip install pip --upgrade\n",
    "    - python3 -m pip install numpy pandas matplotlib seaborn\n"
   ]
  },
  {
   "cell_type": "markdown",
   "metadata": {},
   "source": [
    "# __Visual Studio Code__"
   ]
  },
  {
   "cell_type": "markdown",
   "metadata": {},
   "source": [
    "* __Instalar Visual Studio Code:__ \n",
    "  * Instalar aplicación desde la web.\n",
    "  * Instalar los paquetes de soporte de Python y Git para ejecución, linting y formateo de código.\n",
    "  * Atajos de teclado principales de Visual Studio Code\n",
    "    * Atajo selección múltiple: ctrl+f2, ctrl+may+F, ctrl+D, f3(función f3) , ctrl+f3, ctrl+may+f3\n",
    "    * Atajo para mover linea: alt+flecha arriba/abajo\n",
    "    * Atajos para repetir texto: may+alt+flecha abajo\n",
    "    * Formateo de código\n",
    "* __Tipos de código Python:__\n",
    "  * Script: orientado a la ejecución desasistida de código Python\n",
    "  * Notebook: orientado a exploración de datos o EDA\n",
    "    * Edición de notebooks:\n",
    "      * Markdown vs. Code, atajos de teclado para cambiarlo:\n",
    "      * Ejecución de código de la celda: ctrl + intro y may + intro para pasar al siguiente después de ejecutar.\n",
    "      * Atajos para la creación de celdas: a, b, d \n",
    "      * Atajos para romper la celda: ctrl + -\n",
    "      * Solicitud de ayuda.\n",
    "  * __Enlaces:__\n",
    "    * https://code.visualstudio.com/\n",
    "    * https://code.visualstudio.com/shortcuts/keyboard-shortcuts-windows.pdf"
   ]
  },
  {
   "cell_type": "markdown",
   "metadata": {},
   "source": [
    "# __Git y GitHub__"
   ]
  },
  {
   "cell_type": "markdown",
   "metadata": {
    "vscode": {
     "languageId": "markdown"
    }
   },
   "source": [
    "* Git es la herramienta básica para compartir código fuente entre equipos de desarrollo.\n",
    "  * https://code.visualstudio.com/docs/sourcecontrol/overview\n",
    "* Gestionaremos la documentación del curso como un proyecto en GitHub"
   ]
  }
 ],
 "metadata": {
  "kernelspec": {
   "display_name": "base",
   "language": "python",
   "name": "python3"
  },
  "language_info": {
   "codemirror_mode": {
    "name": "ipython",
    "version": 3
   },
   "file_extension": ".py",
   "mimetype": "text/x-python",
   "name": "python",
   "nbconvert_exporter": "python",
   "pygments_lexer": "ipython3",
   "version": "3.12.4"
  }
 },
 "nbformat": 4,
 "nbformat_minor": 2
}
