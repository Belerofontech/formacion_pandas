{
 "cells": [
  {
   "cell_type": "markdown",
   "metadata": {},
   "source": [
    "# Anaconda"
   ]
  },
  {
   "cell_type": "markdown",
   "metadata": {},
   "source": [
    "* Anaconda, Miniconda o Python oficial.\n",
    "  * https://www.python.org/ \n",
    "  * https://www.anaconda.com/\n",
    "  * https://es.wikipedia.org/wiki/Python\n",
    "  * Instalar Anaconda:\n",
    "    * Reflexionar acerca de entorno de ejecución que se va a generar para poder ejecutar los scripts creados.\n",
    "* Creación de entornos:\n",
    "    Cuando trabajamos con Python podemos tener muchos problemas asociados a las dependencias de los paquetes, muchas veces es necesario crear un entorno limpio en el que instalar unos pocos paquetes que pueden resolver un problema. Esta acción se puede realizar de dos modos, el primero con herramientas estándar de Python y el segundo con el gestor de paquetes de Anaconda, conda.\n",
    "    - Crear un entorno: python -m venv venv/\n",
    "    - Activarlo: source venv/bin/activate\n",
    "    - Desactivar: deactivate\n",
    "* Entornos en Anaconda:\n",
    "    - conda env list\n",
    "    - conda create -n forecast python=3.10\n",
    "    - conda activate -n forecast\n",
    "    - deactivate\n",
    "    - conda remove -n forecast\n",
    "    - conda install paquete\n",
    "    - conda install conda-forge::pycaret\n",
    "    - conda update --all\n",
    "* Creación de entornos:\n",
    "    Cuando trabajamos con Python podemos tener muchos problemas asociados a las dependencias de los paquetes, muchas veces es necesario crear un entorno limpio en el que instalar unos pocos paquetes que pueden resolver un problema.\n",
    "    - Crear un entorno: python -m venv venv/\n",
    "    - Activarlo: source venv/bin/activate\n",
    "    - Desactivar: deactivate\n",
    "    - Borrar\n",
    "* Paquetes:\n",
    "    - Librería estándar\n",
    "    - Otros Paquetes, existen unos 300.000\n",
    "    - python3 -m pip install pip --upgrade\n",
    "    - python3 -m pip install numpy pandas matplotlib seaborn\n"
   ]
  },
  {
   "cell_type": "markdown",
   "metadata": {},
   "source": [
    "# Visual Studio Code"
   ]
  },
  {
   "cell_type": "markdown",
   "metadata": {},
   "source": [
    "* Instalar Visual Studio Code, escribir un sript básico e instalar los paquetes de soporte de Python para ejecución, linting y formateo de código.\n",
    "* Script: orientado a la ejecución desasistida\n",
    "* Notebook: orientado a exploración de datos o EDA\n",
    "* Edición:\n",
    "  * Markdown vs. Code, atajos de teclado para cambiarlo:\n",
    "  * Ejecución de código de la celda: ctrl + intro y may + intro para pasar al siguiente.\n",
    "  * Atajos para la creación de celdas: a, b, d \n",
    "  * Atajos para romper la celda: ctrl + -\n",
    "  * Atajo para mover linea: alt+flecha arriba/abajo\n",
    "  * Atajos para repetir texto: may+alt+flecha abajo\n",
    "  * Atajo selección múltiple: ctrl+f2, ctrl+may+F, ctrl+D, f3(función f3) , ctrl+f3, ctrl+may+f3\n",
    "  * Formateo de código\n",
    "  * Solicitud de ayuda.\n",
    "  * Enlaces:\n",
    "        * https://code.visualstudio.com/\n",
    "        * https://code.visualstudio.com/shortcuts/keyboard-shortcuts-windows.pdf"
   ]
  },
  {
   "cell_type": "markdown",
   "metadata": {},
   "source": [
    "# Comandos básicos de GitHub"
   ]
  },
  {
   "cell_type": "markdown",
   "metadata": {
    "vscode": {
     "languageId": "markdown"
    }
   },
   "source": [
    "* Git es la herramienta básica para compartir código fuente entre equipos de desarrollo.\n",
    "  * https://code.visualstudio.com/docs/sourcecontrol/overview"
   ]
  }
 ],
 "metadata": {
  "kernelspec": {
   "display_name": "base",
   "language": "python",
   "name": "python3"
  },
  "language_info": {
   "codemirror_mode": {
    "name": "ipython",
    "version": 3
   },
   "file_extension": ".py",
   "mimetype": "text/x-python",
   "name": "python",
   "nbconvert_exporter": "python",
   "pygments_lexer": "ipython3",
   "version": "3.12.4"
  }
 },
 "nbformat": 4,
 "nbformat_minor": 2
}
