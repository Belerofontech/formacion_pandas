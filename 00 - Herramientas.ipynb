{
 "cells": [
  {
   "cell_type": "markdown",
   "metadata": {},
   "source": [
    "# Anaconda"
   ]
  },
  {
   "cell_type": "markdown",
   "metadata": {},
   "source": [
    "* Anaconda, Miniconda o Python oficial.\n",
    "    * conda: instalación y uso básico, paquetes oficiales y source-forge\n",
    "\n",
    "* Creación de entornos:\n",
    "    Cuando trabajamos con Python podemos tener muchos problemas asociados a las dependencias de los paquetes, muchas veces es necesario crear un entorno limpio en el que instalar unos pocos paquetes que pueden resolver un problema. Esta acción se puede realizar de dos modos, el primero con herramientas estandar de Python y el segundo con el gestor de paquetes de Anaconda, conda.\n",
    "    - Crear un entorno: python -m venv venv/\n",
    "    - Activarlo: source venv/bin/activate\n",
    "    - Desactivar: deactivate\n",
    "\n",
    "* Entornos en Anaconda\n",
    "    - conda env list\n",
    "    - conda create -n forecast pyhton=3.10\n",
    "    - conda activate -n forecast\n",
    "    - deactivate\n",
    "    - conda remove -n forecast\n",
    "    - conda install paquete\n",
    "    - conda install conda-forge::pycaret\n",
    "    - conda update --all\n",
    "\n",
    "* Creación de entornos:\n",
    "    Cuando trabajamos con Python podemos tener muchos problemas asociados a las dependencias de los paquetes, muchas veces es necesario crear un entorno limpio en el que instalar unos pocos paquetes que pueden resolver un problema.\n",
    "        - Crear un entorno: python -m venv venv/\n",
    "        - Activarlo: source venv/bin/activate\n",
    "        - Desactivar: deactivate\n",
    "\n",
    "* Paquetes:\n",
    "    - Librería estándar\n",
    "    - Otros Paquetes, existen unos 300.000\n",
    "    - python3 -m pip install pip --upgrade\n",
    "    - python3 -m pip install numpy pandas matplotlib seaborn\n"
   ]
  },
  {
   "cell_type": "markdown",
   "metadata": {},
   "source": [
    "# Visual Studio Code"
   ]
  },
  {
   "cell_type": "markdown",
   "metadata": {},
   "source": [
    "* Instalar Visual Studio Code, escribir un sript básico e instalar los paquetes de soporte de Python para ejecución, linting y formateo de código.\n",
    "* Script: orientado a la creación de scripts .py\n",
    "* Notebook: orientado a exploración de datos EDA\n",
    "    * Markdown vs. Code, atajos de teclado para cambiarlo:\n",
    "    * Ejecución de código de la celda: ctrl + intro y may + intro para pasar al siguiente.\n",
    "    * Atajos para la creación de celdas: a, b, d \n",
    "    * Atajos para romper la celda: ctrl + -\n",
    "    * Atajo para mover linea: alt+flecha arriba/abajo\n",
    "    * Atajos para repetir texto: may+alt+flecha abajo\n",
    "    * Atajo selección múltiple: ctrl+f2, ctrl+may+F, ctrl+D, f3(función f3) , ctrl+f3, ctrl+may+f3\n",
    "    * Formateo de código\n",
    "    * Solicitud de ayuda.\n",
    "    * Atajos de teclado globales:\n",
    "        * https://code.visualstudio.com/shortcuts/keyboard-shortcuts-windows.pdf"
   ]
  },
  {
   "cell_type": "markdown",
   "metadata": {},
   "source": [
    "# Comandos básicos de GitHub"
   ]
  },
  {
   "cell_type": "markdown",
   "metadata": {},
   "source": [
    "stage, commit, "
   ]
  },
  {
   "cell_type": "markdown",
   "metadata": {},
   "source": []
  },
  {
   "cell_type": "markdown",
   "metadata": {},
   "source": []
  }
 ],
 "metadata": {
  "kernelspec": {
   "display_name": "base",
   "language": "python",
   "name": "python3"
  },
  "language_info": {
   "name": "python",
   "version": "3.12.4"
  }
 },
 "nbformat": 4,
 "nbformat_minor": 2
}
